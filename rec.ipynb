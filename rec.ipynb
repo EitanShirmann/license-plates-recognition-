{
 "cells": [
  {
   "cell_type": "markdown",
   "metadata": {},
   "source": [
    "# Starting the thing"
   ]
  },
  {
   "cell_type": "code",
   "execution_count": 1,
   "metadata": {},
   "outputs": [],
   "source": [
    "import cv2\n",
    "import pytesseract \n",
    "import time\n",
    "from imutils import contours\n",
    "pytesseract.pytesseract.tesseract_cmd = r\"C:\\Program Files\\Tesseract-OCR\\tesseract.exe\""
   ]
  },
  {
   "cell_type": "markdown",
   "metadata": {},
   "source": [
    "# Loading the pic, "
   ]
  },
  {
   "cell_type": "code",
   "execution_count": 7,
   "metadata": {},
   "outputs": [
    {
     "name": "stdout",
     "output_type": "stream",
     "text": [
      " \n",
      "\n",
      "\n",
      "\n",
      "\n",
      "\n",
      "\n",
      "\n",
      " \n",
      "\n",
      "\n",
      " \n",
      "\n",
      " \n",
      "\n",
      "\n",
      " \n",
      "\n",
      "\n",
      "\n",
      "\n",
      " \n",
      "\n",
      "~~\n",
      "\n",
      "a\n",
      "\n",
      "\n",
      " \n",
      "\n",
      "\n",
      " \n",
      "\n",
      "\n",
      "\n",
      "\n",
      " \n",
      "\n",
      "\n",
      " \n",
      "\n",
      "\n",
      " \n",
      "\n",
      "\n",
      " \n",
      "\n"
     ]
    }
   ],
   "source": [
    "start = time. time()\n",
    "image = cv2.imread(\"cars/car3.jpg\")\n",
    "height, width, _ = image.shape\n",
    "gray = cv2.cvtColor(image, cv2.COLOR_BGR2GRAY)\n",
    "thresh = cv2.threshold(gray, 0, 255, cv2.THRESH_OTSU)[1]\n",
    "cnts = cv2.findContours(thresh, cv2.RETR_TREE, cv2.CHAIN_APPROX_SIMPLE)\n",
    "cnts, _ = (contours.sort_contours(cnts[0]))\n",
    "\n",
    "imgs = []\n",
    "for c in cnts:\n",
    "    area = cv2.contourArea(c)\n",
    "    \n",
    "    x,y,w,h = cv2.boundingRect(c)\n",
    "    \n",
    "     \n",
    "            \n",
    "    \n",
    "    if area > 200:\n",
    "        \n",
    "        \n",
    "        img = gray[y:y+h, x:x+w]\n",
    "        \n",
    "        \n",
    "        result = pytesseract.image_to_string(img, lang=\"rus+eng\")   \n",
    "        print(result)\n",
    "        \n",
    "        if len(result) > 7:\n",
    "            imgs.append(img)\n",
    "            end = time.time()\n",
    "            print(\"time elapsed: \",end - start)\n",
    "            cv2.rectangle(image,(x,y),(x+w,y+h),(0,255,0),1)\n",
    "            cv2.putText(image, result, (x, y-10), cv2.FONT_HERSHEY_SIMPLEX, 0.9, (36,255,12), 2)\n",
    "            cv2.imshow(\"Show\",image)\n",
    "            cv2.waitKey(0) \n",
    "            cv2.destroyAllWindows()\n",
    "\n",
    "\n",
    "\n",
    "  "
   ]
  },
  {
   "cell_type": "markdown",
   "metadata": {},
   "source": [
    "TODO:"
   ]
  },
  {
   "cell_type": "code",
   "execution_count": null,
   "metadata": {},
   "outputs": [],
   "source": [
    "# learn how to set thresholds, depending on how big the picture is, try running on live camera"
   ]
  },
  {
   "cell_type": "code",
   "execution_count": null,
   "metadata": {},
   "outputs": [],
   "source": [
    "for i in imgs:\n",
    "    cv2.imshow(\"img\", i)\n",
    "    cv2.waitKey(0)\n"
   ]
  },
  {
   "cell_type": "code",
   "execution_count": null,
   "metadata": {},
   "outputs": [],
   "source": []
  }
 ],
 "metadata": {
  "interpreter": {
   "hash": "afdb4c803cbbfccd898c0257874cfca13716662fd84adf27d4f9d2850bdbb463"
  },
  "kernelspec": {
   "display_name": "Python 3.8.10 64-bit (windows store)",
   "language": "python",
   "name": "python3"
  },
  "language_info": {
   "codemirror_mode": {
    "name": "ipython",
    "version": 3
   },
   "file_extension": ".py",
   "mimetype": "text/x-python",
   "name": "python",
   "nbconvert_exporter": "python",
   "pygments_lexer": "ipython3",
   "version": "3.8.10"
  },
  "orig_nbformat": 4
 },
 "nbformat": 4,
 "nbformat_minor": 2
}
